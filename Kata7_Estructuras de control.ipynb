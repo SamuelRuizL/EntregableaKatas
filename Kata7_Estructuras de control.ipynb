{
 "cells": [
  {
   "cell_type": "markdown",
   "metadata": {},
   "source": [
    "### Ejercicio 1: Creacion de un bucle \"while\""
   ]
  },
  {
   "cell_type": "code",
   "execution_count": 7,
   "metadata": {},
   "outputs": [
    {
     "name": "stdout",
     "output_type": "stream",
     "text": [
      "['Mercury', 'Venus', 'Earth', 'Mars', 'Jupiter', 'Saturn', 'Neptune']\n"
     ]
    }
   ],
   "source": [
    "new_planet = input('Ingrese nombre del planeta: ')\n",
    "planets = []\n",
    "\n",
    "while new_planet.lower() != 'done':\n",
    "    if new_planet:\n",
    "        planets.append(new_planet)\n",
    "    new_planet = input(\"\"\"Ingrese otro planeta o escriba \"done\" para concluir el proceso\"\"\")\n",
    "print(planets) # Comprobacion\n"
   ]
  },
  {
   "cell_type": "markdown",
   "metadata": {},
   "source": [
    "### Ejercicio 2: Creacion de un ciclo \"for\""
   ]
  },
  {
   "cell_type": "code",
   "execution_count": 8,
   "metadata": {},
   "outputs": [
    {
     "name": "stdout",
     "output_type": "stream",
     "text": [
      "Mercury\n",
      "Venus\n",
      "Earth\n",
      "Mars\n",
      "Jupiter\n",
      "Saturn\n",
      "Neptune\n"
     ]
    }
   ],
   "source": [
    "for itemsplanets in planets:\n",
    "    print(itemsplanets)"
   ]
  }
 ],
 "metadata": {
  "interpreter": {
   "hash": "455a90870ee61b520e7b9da6f3cac21a39449ca7b54e5620a248857b560a0c39"
  },
  "kernelspec": {
   "display_name": "Python 3.10.2 64-bit",
   "language": "python",
   "name": "python3"
  },
  "language_info": {
   "codemirror_mode": {
    "name": "ipython",
    "version": 3
   },
   "file_extension": ".py",
   "mimetype": "text/x-python",
   "name": "python",
   "nbconvert_exporter": "python",
   "pygments_lexer": "ipython3",
   "version": "3.10.2"
  },
  "orig_nbformat": 4
 },
 "nbformat": 4,
 "nbformat_minor": 2
}
