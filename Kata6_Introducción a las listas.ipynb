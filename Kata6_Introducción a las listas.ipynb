{
 "cells": [
  {
   "cell_type": "markdown",
   "metadata": {},
   "source": [
    "### Ejercicio1: Crear y usar listas de Python"
   ]
  },
  {
   "cell_type": "code",
   "execution_count": 23,
   "metadata": {},
   "outputs": [
    {
     "name": "stdout",
     "output_type": "stream",
     "text": [
      "Hay 8 planetas en el sistema solar\n"
     ]
    }
   ],
   "source": [
    "# Crear lista\n",
    "planets = ['mercurio', 'venus', 'tierra', 'marte', 'jupiter', 'saturno', 'urano', 'neptuno']\n",
    "numplanets = len(planets)\n",
    "print('Hay '+ str(numplanets) +' planetas en el sistema solar')"
   ]
  },
  {
   "cell_type": "code",
   "execution_count": 22,
   "metadata": {},
   "outputs": [
    {
     "name": "stdout",
     "output_type": "stream",
     "text": [
      "El ultimo planeta es: pluton\n"
     ]
    }
   ],
   "source": [
    "# Agregar pluton e imprimir ultimo elemento\n",
    "planets.append('pluton')\n",
    "print('El ultimo planeta es: '+ planets[-1])"
   ]
  },
  {
   "cell_type": "markdown",
   "metadata": {},
   "source": [
    "### Ejercicio 2: Trabajando con datos de una lista"
   ]
  },
  {
   "cell_type": "markdown",
   "metadata": {},
   "source": [
    "#### Mi prueba"
   ]
  },
  {
   "cell_type": "code",
   "execution_count": 71,
   "metadata": {},
   "outputs": [
    {
     "name": "stdout",
     "output_type": "stream",
     "text": [
      "El planeta Mars es el numero 4 de la lista\n",
      "Planeta frente de  Mars :  Jupiter\n",
      "Planeta detras de  Mars :  Earth\n",
      "Los planetas mas alejados de Mars: Mercury y Neptune\n"
     ]
    }
   ],
   "source": [
    "# Lista de planetas\n",
    "planets = ['Mercury', 'Venus', 'Earth', 'Mars', 'Jupiter', 'Saturn', 'Neptune']\n",
    "\n",
    "# Solicitar nombre de un planeta\n",
    "NewPlanet = input('Ingrese nombre del planeta (Escriba empezando por mayuscula): ')\n",
    "\n",
    "# Buscar planeta en la lista\n",
    "NumberPlanet = planets.index(NewPlanet)\n",
    "print('El planeta ' + NewPlanet + ' es el numero ' + str(NumberPlanet + 1) + ' de la lista')\n",
    "\n",
    "# Mostrar planetas mas cercanos\n",
    "planetsnearfront = planets [NumberPlanet+1]\n",
    "planetsnearback =  planets [NumberPlanet-1]\n",
    "print(f'Planeta frente de  {NewPlanet} :  {str(planetsnearfront)}\\nPlaneta detras de  {NewPlanet} :  {str(planetsnearback)}')\n",
    "\n",
    "# Mostrar planetas mas alejados\n",
    "fplanet = planets [0]\n",
    "lplanet = planets [-1]\n",
    "print(f'Los planetas mas alejados de {NewPlanet}: {fplanet} y {lplanet}')"
   ]
  },
  {
   "cell_type": "markdown",
   "metadata": {},
   "source": [
    "#### Solucion"
   ]
  },
  {
   "cell_type": "code",
   "execution_count": 70,
   "metadata": {},
   "outputs": [
    {
     "name": "stdout",
     "output_type": "stream",
     "text": [
      "Here are the planets closer than Mars\n",
      "['Mercury', 'Venus', 'Earth']\n",
      "Here are the planets further than Mars\n",
      "['Jupiter', 'Saturn', 'Neptune']\n"
     ]
    }
   ],
   "source": [
    "# Lista de planetas\n",
    "\n",
    "planets = ['Mercury', 'Venus', 'Earth', 'Mars', 'Jupiter', 'Saturn', 'Neptune']\n",
    "\n",
    "# Solicitamos el nombre de un planeta *Pista:  input()*\n",
    "user_planet = input('Please enter the name of the planet (with a capital letter to start)')\n",
    "\n",
    "# Busca el planeta en la lista\n",
    "planet_index = planets.index(user_planet)\n",
    "\n",
    "# Muestra los planetas más cercanos al sol\n",
    "print('Here are the planets closer than ' + user_planet)\n",
    "print(planets[0:planet_index])\n",
    "\n",
    "# Muestra los planetas más lejanos al sol\n",
    "print('Here are the planets further than ' + user_planet)\n",
    "print(planets[planet_index + 1:])"
   ]
  }
 ],
 "metadata": {
  "interpreter": {
   "hash": "411aac51dc38f2c4a94674f212437a5ffadf730acdefbd89c0fc3e71f4abdccd"
  },
  "kernelspec": {
   "display_name": "Python 3.10.2 64-bit",
   "language": "python",
   "name": "python3"
  },
  "language_info": {
   "codemirror_mode": {
    "name": "ipython",
    "version": 3
   },
   "file_extension": ".py",
   "mimetype": "text/x-python",
   "name": "python",
   "nbconvert_exporter": "python",
   "pygments_lexer": "ipython3",
   "version": "3.10.2"
  },
  "orig_nbformat": 4
 },
 "nbformat": 4,
 "nbformat_minor": 2
}
