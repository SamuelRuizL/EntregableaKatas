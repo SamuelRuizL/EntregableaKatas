{
 "cells": [
  {
   "cell_type": "markdown",
   "metadata": {},
   "source": [
    "### Ejercicio1 - Utilizar operadores aritméticos"
   ]
  },
  {
   "cell_type": "code",
   "execution_count": 19,
   "metadata": {},
   "outputs": [
    {
     "name": "stdout",
     "output_type": "stream",
     "text": [
      "628949330 km\n",
      "390577534 millas\n"
     ]
    }
   ],
   "source": [
    "# Distancias\n",
    "# Tierra : 149.597.870 km || Jupiter: 778.547.200 km\n",
    "kmtierra = 149597870\n",
    "kmjupiter = 778547200\n",
    "\n",
    "# Operacion\n",
    "\n",
    "distancia2= kmtierra - kmjupiter\n",
    "print(f'{abs(distancia2)} km')\n",
    "\n",
    "# A millas\n",
    "\n",
    "millas = distancia2 * 0.621\n",
    "print(f'{(round(abs(millas)))} millas')"
   ]
  },
  {
   "cell_type": "markdown",
   "metadata": {},
   "source": [
    "### Ejercicio 2: convierte cadenas en números y usa valores absolutos"
   ]
  },
  {
   "cell_type": "code",
   "execution_count": 27,
   "metadata": {},
   "outputs": [
    {
     "name": "stdout",
     "output_type": "stream",
     "text": [
      "La distancia entre los planetas es de 100 kilometros, lo que equivale a 62.1 millas\n"
     ]
    }
   ],
   "source": [
    "# Ingresar datos\n",
    "planeta1 = int(input('Ingrese la distancia del sol al planeta 1: '))\n",
    "planeta2 = int(input('Ingrese la distancia del sol al planeta 2: '))\n",
    "\n",
    "# Calculo\n",
    "diferencia = planeta1 - planeta2\n",
    "\n",
    "# Conversion\n",
    "diferenciaMillas = diferencia * 0.621\n",
    "\n",
    "print(f'La distancia entre los planetas es de {abs(diferencia)} kilometros, lo que equivale a {abs(diferenciaMillas)} millas.')\n"
   ]
  }
 ],
 "metadata": {
  "interpreter": {
   "hash": "411aac51dc38f2c4a94674f212437a5ffadf730acdefbd89c0fc3e71f4abdccd"
  },
  "kernelspec": {
   "display_name": "Python 3.10.2 64-bit",
   "language": "python",
   "name": "python3"
  },
  "language_info": {
   "codemirror_mode": {
    "name": "ipython",
    "version": 3
   },
   "file_extension": ".py",
   "mimetype": "text/x-python",
   "name": "python",
   "nbconvert_exporter": "python",
   "pygments_lexer": "ipython3",
   "version": "3.10.2"
  },
  "orig_nbformat": 4
 },
 "nbformat": 4,
 "nbformat_minor": 2
}
