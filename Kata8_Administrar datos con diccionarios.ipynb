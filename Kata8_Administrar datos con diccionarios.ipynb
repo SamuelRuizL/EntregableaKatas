{
 "cells": [
  {
   "cell_type": "markdown",
   "metadata": {},
   "source": [
    "### Ejercicio 1: Creacion de diccionarios de Python"
   ]
  },
  {
   "cell_type": "code",
   "execution_count": 63,
   "metadata": {},
   "outputs": [
    {
     "name": "stdout",
     "output_type": "stream",
     "text": [
      "mars has 2 moons\n",
      "mars tiene una circunferencia polar de 6752 y una circunferencia equatorial de: 6792\n"
     ]
    }
   ],
   "source": [
    "# Diccionario\n",
    "planet = {\n",
    "    'name' : 'mars',\n",
    "    'moons' : 2\n",
    "}\n",
    "\n",
    "# Recuperar valores\n",
    "print(f\"\"\"{planet['name']} has {planet['moons']} moons\"\"\")\n",
    "\n",
    "# Nuevo valor\n",
    "planet['circunferencia (km)'] = {\n",
    "    'polar' : 6752,\n",
    "    'equatorial' : 6792\n",
    "}\n",
    "\n",
    "# Nombre con circunferencia\n",
    "print(f\"\"\"{planet['name']} tiene una circunferencia polar de {planet['circunferencia (km)']['polar' ]} y una circunferencia equatorial de: {planet['circunferencia (km)']['equatorial']}\"\"\")\n"
   ]
  },
  {
   "cell_type": "markdown",
   "metadata": {},
   "source": [
    "### Ejercicio 2: Calculo de valores"
   ]
  },
  {
   "cell_type": "code",
   "execution_count": 64,
   "metadata": {},
   "outputs": [
    {
     "name": "stdout",
     "output_type": "stream",
     "text": [
      "144\n",
      "Promedio de lunas: 12.0\n"
     ]
    }
   ],
   "source": [
    "# Planets and moons\n",
    "\n",
    "planet_moons = {\n",
    "    'mercury': 0,\n",
    "    'venus': 0,\n",
    "    'earth': 1,\n",
    "    'mars': 2,\n",
    "    'jupiter': 79,\n",
    "    'saturn': 82,\n",
    "    'uranus': 27,\n",
    "    'neptune': 14,\n",
    "    'pluto': 5,\n",
    "    'haumea': 2,\n",
    "    'makemake': 1,\n",
    "    'eris': 1\n",
    "}\n",
    "\n",
    "moons = planet_moons.values()\n",
    "\n",
    "planets = len(planet_moons.keys())\n",
    "\n",
    "total_moons = 0\n",
    "\n",
    "for moon in moons:\n",
    "    total_moons = total_moons + planets\n",
    "    \n",
    "average = total_moons / planets\n",
    "print(f\"\"\"Promedio de lunas: {average}\"\"\")"
   ]
  }
 ],
 "metadata": {
  "interpreter": {
   "hash": "455a90870ee61b520e7b9da6f3cac21a39449ca7b54e5620a248857b560a0c39"
  },
  "kernelspec": {
   "display_name": "Python 3.10.2 64-bit",
   "language": "python",
   "name": "python3"
  },
  "language_info": {
   "codemirror_mode": {
    "name": "ipython",
    "version": 3
   },
   "file_extension": ".py",
   "mimetype": "text/x-python",
   "name": "python",
   "nbconvert_exporter": "python",
   "pygments_lexer": "ipython3",
   "version": "3.10.2"
  },
  "orig_nbformat": 4
 },
 "nbformat": 4,
 "nbformat_minor": 2
}
