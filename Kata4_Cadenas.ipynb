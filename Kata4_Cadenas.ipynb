{
 "cells": [
  {
   "cell_type": "markdown",
   "metadata": {},
   "source": [
    "### Ejercicio 1"
   ]
  },
  {
   "cell_type": "code",
   "execution_count": 3,
   "metadata": {},
   "outputs": [
    {
     "name": "stdout",
     "output_type": "stream",
     "text": [
      "\n",
      "On average, the Moon moves 4cm away from the Earth every year\n",
      "The highest daylight temperature of the Moon is 127 C.\n"
     ]
    }
   ],
   "source": [
    "text = \"\"\"Interesting facts about the Moon. The Moon is Earth's only satellite. There are several interesting facts about the Moon and how it affects life here on Earth. \n",
    "On average, the Moon moves 4cm away from the Earth every year. This yearly drift is not significant enough to cause immediate effects on Earth. The highest daylight temperature of the Moon is 127 C.\"\"\"\n",
    "\n",
    "oraciones = text.split ('. ')\n",
    "\n",
    "palabrasabuscar = ['average', 'temperature', 'distance']\n",
    "\n",
    "for itemsoraciones in oraciones:\n",
    "    for itemspalabras in palabrasabuscar:\n",
    "        if itemspalabras in itemsoraciones:\n",
    "            print(itemsoraciones)\n"
   ]
  },
  {
   "cell_type": "markdown",
   "metadata": {},
   "source": [
    "### Ejercicio 2"
   ]
  },
  {
   "cell_type": "code",
   "execution_count": 4,
   "metadata": {},
   "outputs": [
    {
     "name": "stdout",
     "output_type": "stream",
     "text": [
      "\n",
      "(Plantilla)\n",
      "Gravity facts about Moon \n",
      ".........................................................................................................\n",
      "Planet Name : Earth\n",
      "Gravity on Moon: 1.6199999999999999 m/s2 \n",
      " \n",
      " -  -  -  -  -  -  -  -  -  -  -  -  -  -  -  -  -  -  -  -  -  -  -  -  -  -  -  -  -  -  -  -  -  -  -  -  - \n",
      " \n",
      "\n",
      "Gravity facts about Moon\n",
      "Planet Name : Earth\n",
      "Gravity on Moon: 1.6199999999999999 m/s2 \n",
      "\n",
      "Gravity facts about Ganímedes\n",
      "Planet Name : Marte \n",
      "Gravity on Ganímedes: 1.4300000000000002 m/s2 \n",
      "\n"
     ]
    }
   ],
   "source": [
    "# Datos con los que vas a trabajar\n",
    "name = \"Moon\"\n",
    "gravity = 0.00162 # in kms\n",
    "planet = \"Earth\"\n",
    "\n",
    "planeta = 'Marte '\n",
    "gravedad  = 0.00143\n",
    "nombre = 'Ganímedes'\n",
    "\n",
    "# Titulo\n",
    "title = f\"Gravity facts about {name}\"\n",
    "titulo = f\"Gravity facts about {nombre}\"\n",
    "title.title()\n",
    "\n",
    "# Plantilla\n",
    "platilla = f\"\"\"(Plantilla)\\n{title} \\n{'.'*105}\n",
    "Planet Name : {planet}\n",
    "Gravity on {name}: {gravity*1000} m/s2 \\n{' '}\\n\"\"\"\n",
    "print('\\n'+platilla+f\"{' - '*37}\\n{' '}\\n\")\n",
    "\n",
    "# Union\n",
    "Union =\"\"\"{title}\n",
    "Planet Name : {planet}\n",
    "Gravity on {name}: {gravity} m/s2 \\n\"\"\"\n",
    "\n",
    "#.format\n",
    "print(Union.format(title = title, name = name, planet= planet, gravity = gravity*1000))\n",
    "print(Union.format(title = titulo, name = nombre, planet= planeta, gravity = gravedad*1000))"
   ]
  }
 ],
 "metadata": {
  "interpreter": {
   "hash": "411aac51dc38f2c4a94674f212437a5ffadf730acdefbd89c0fc3e71f4abdccd"
  },
  "kernelspec": {
   "display_name": "Python 3.10.2 64-bit",
   "language": "python",
   "name": "python3"
  },
  "language_info": {
   "codemirror_mode": {
    "name": "ipython",
    "version": 3
   },
   "file_extension": ".py",
   "mimetype": "text/x-python",
   "name": "python",
   "nbconvert_exporter": "python",
   "pygments_lexer": "ipython3",
   "version": "3.10.2"
  },
  "orig_nbformat": 4
 },
 "nbformat": 4,
 "nbformat_minor": 2
}
